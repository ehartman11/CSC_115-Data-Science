{
 "cells": [
  {
   "cell_type": "code",
   "execution_count": null,
   "id": "131bfebc-6ac2-45e6-91ad-e628e3a6e578",
   "metadata": {},
   "outputs": [],
   "source": [
    "# Define a funciton named calculate_median that takes a list of numbers as input \n",
    "# and returns the mdeian of those numbers\n",
    "\n",
    "# define the function, set its parameter and type cast it to list, do the same with the return value type\n",
    "def calculate_median(nums: list) -> float:\n",
    "    # add a docstring for user information of the function\n",
    "    \"\"\"\n",
    "    Take a list of numbers as input, sort it, and return its median value\n",
    "    :param nums: a list of numbers\n",
    "    :return: median value (float)\n",
    "    \"\"\"\n",
    "    # sort the given list in ascending order\n",
    "    nums.sort()\n",
    "    # check if the list length is odd, if it is then get the median value by indexing the middle of the list\n",
    "    if (len(nums) % 2) != 0:\n",
    "        median = nums[(len(nums)) // 2]\n",
    "    # if its an even length, find the middle two indexes and average their corresponding values in the list\n",
    "    else:\n",
    "        upper = nums[(len(nums)) // 2]\n",
    "        lower = nums[(len(nums) - 1) // 2]\n",
    "        median = (upper + lower) / 2\n",
    "    # convert the median value to a float and return it\n",
    "    return float(median)\n"
   ]
  },
  {
   "cell_type": "code",
   "execution_count": null,
   "id": "fe6edfbb-8097-4bfa-8307-6e0e97758cde",
   "metadata": {},
   "outputs": [],
   "source": [
    "# Read a text file named \"text.txt\" containing the following text. \n",
    "# Count the occurrences of each word and store them in a dictionary.\n",
    "\n",
    "# open the text file in read mode (\"with open()\" automatically opens the file and closes it at completion)\n",
    "with open('text.txt', 'r') as f:\n",
    "    # create a word count dictionary\n",
    "    word_dict = {}\n",
    "    # read the file, splitting the lines word by word, to create a list \n",
    "    text = f.read().split()\n",
    "    # iterate over the list of words\n",
    "    for word in text:\n",
    "        # if the word does not exist as a key in the dictionary, add it and give a value of one\n",
    "        if word not in word_dict.keys():\n",
    "            word_dict[word] = 1\n",
    "        # if the word already exists as a key, increment its value by one\n",
    "        else:\n",
    "            word_dict[word] += 1\n",
    "\n",
    "# iterate over the word count dictionary and print each word with its count\n",
    "for k, v in word_dict.items():\n",
    "    print(f'{k}: {v}')"
   ]
  },
  {
   "cell_type": "code",
   "execution_count": null,
   "id": "4f1a503d-375e-4a04-9bfd-73bc57ac806e",
   "metadata": {},
   "outputs": [],
   "source": [
    "# Create a .txt file and write some content into it. \n",
    "#Read this content from '.txt' file and write it into another file named 'copy.txt' using a file method and a loop.\n",
    "\n",
    "# open the original file in read mode\n",
    "with open('practice_1.2.txt', 'r') as original:\n",
    "    # read the file into variable text \n",
    "    text = original.read()\n",
    "    # open a new file in write mode\n",
    "    with open('copy.txt', 'w') as copy:\n",
    "        # iterate over each line in the text variable and write it to the copy file\n",
    "        for line in text:\n",
    "            copy.write(line)"
   ]
  }
 ],
 "metadata": {
  "kernelspec": {
   "display_name": "Python 3 (ipykernel)",
   "language": "python",
   "name": "python3"
  },
  "language_info": {
   "codemirror_mode": {
    "name": "ipython",
    "version": 3
   },
   "file_extension": ".py",
   "mimetype": "text/x-python",
   "name": "python",
   "nbconvert_exporter": "python",
   "pygments_lexer": "ipython3",
   "version": "3.11.7"
  }
 },
 "nbformat": 4,
 "nbformat_minor": 5
}
