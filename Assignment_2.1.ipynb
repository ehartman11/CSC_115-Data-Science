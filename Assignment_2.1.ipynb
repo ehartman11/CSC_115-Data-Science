{
 "cells": [
  {
   "cell_type": "code",
   "execution_count": 44,
   "id": "fb9afa13-0838-4936-ad7f-14dab7c4b09f",
   "metadata": {},
   "outputs": [],
   "source": [
    "import pandas as pd\n",
    "import numpy as np\n",
    "from selenium import webdriver\n",
    "from selenium.webdriver.chrome.options import Options\n",
    "from selenium.webdriver.common.by import By"
   ]
  },
  {
   "cell_type": "code",
   "execution_count": 47,
   "id": "68ea0b08-ca45-442c-b8f3-46823b3af05d",
   "metadata": {},
   "outputs": [],
   "source": [
    "class Stock:\n",
    "\n",
    "    def __init__(self, path, name):\n",
    "        self.name = name\n",
    "        self.path = path\n",
    "        self.dfs = []\n",
    "        self.quarters = []\n",
    "        self.master_df = None\n",
    "        self.driver = None\n",
    "\n",
    "    def import_data_tables(self):\n",
    "        \"\"\"\n",
    "        Retrieves the Income statement, Balance Sheet and Cash Flow for each of the last five quarters\n",
    "        From the webpage's HTML \n",
    "        Combines each statement of a single quarter into a dataFrame and stores it the the instance's df list\n",
    "        \"\"\"\n",
    "        def import_statements(*data):\n",
    "            # create lists representing each column for all three tables combined\n",
    "            # Metric \n",
    "            list1 = []\n",
    "            # Value (K, M, B in USD, or No units)\n",
    "            list2 = []\n",
    "            # Y/Y Change (%)\n",
    "            list3 = []\n",
    "            # add the columns' data to the appropriate list\n",
    "            for dt in data:\n",
    "                for d in dt:\n",
    "                    if dt == metric:\n",
    "                        list1.append(d.get_attribute('innerHTML'))\n",
    "                    elif dt == values:\n",
    "                        val = d.get_attribute('innerHTML')\n",
    "                        # Determine the units and convert to proper dollar amount as float type\n",
    "                        if val[-1] == \"B\":\n",
    "                            val = float(val[0:-1]) * 1000000000\n",
    "                        elif val[-1] == \"M\":\n",
    "                            val = float(val[0:-1]) * 1000000\n",
    "                        elif val[-1] == \"K\":\n",
    "                            val = float(val[0:-1]) * 1000\n",
    "                        else:\n",
    "                            val = float(val[0:-1])\n",
    "                        list2.append(val)\n",
    "                    elif dt == change:\n",
    "                        chg = d.get_attribute('innerHTML')\n",
    "                        chg = str(chg)[-18:].strip(\"</span>\")\n",
    "                        # Remove the % sign to be able to convert to float\n",
    "                        if chg[-1] == \"%\":\n",
    "                            chg = float(''.join(chg[0:-1].split(',')))\n",
    "                        # If there is no % sign, then the change is not tracked and should be replaced with None\n",
    "                        else:\n",
    "                            chg = None\n",
    "                        list3.append(chg)\n",
    "            # zip into an array-like structure and convert to DataFrame\n",
    "            list4 = zip(list1, list2, list3)\n",
    "            df = pd.DataFrame(data=list4, columns=['Metric', 'Value', 'Y/Y Change'])\n",
    "            return df\n",
    "\n",
    "        # column headers\n",
    "        header = self.driver.find_elements(by=By.CLASS_NAME, value='yNnsfe')\n",
    "        # Store the financial statement quarter Date (Month/Year) in the quarters list\n",
    "        self.quarters.append(header[1].get_attribute('innerHTML')[:8])\n",
    "        # value column\n",
    "        values = self.driver.find_elements(by=By.CLASS_NAME, value='QXDnM')\n",
    "        # change column\n",
    "        change = self.driver.find_elements(by=By.CLASS_NAME, value=\"gEUVJe\")\n",
    "        # metric column\n",
    "        metric = self.driver.find_elements(by=By.CLASS_NAME, value='rsPbEe')\n",
    "        # Create a dataFrame for the quarter and store it in the dfs list\n",
    "        self.dfs.append(import_statements(metric, values, change))\n",
    "\n",
    "        print(\"------\\nData tables imported successfully\\n------\")\n",
    "\n",
    "    def create_master_df(self):\n",
    "        # Combine each quarter's financial statemnt into a master dataFrame\n",
    "        if self.dfs:\n",
    "            self.master_df = pd.concat(self.dfs,\n",
    "                                       keys=[AMD.quarters[0], AMD.quarters[1], AMD.quarters[2], AMD.quarters[3], AMD.quarters[4]],\n",
    "                                       names=[\"Quarter\", 'Row ID'])\n",
    "\n",
    "    def start_driver(self):\n",
    "        # Initialize the driver\n",
    "        chrome_options = Options()\n",
    "        chrome_options.add_experimental_option('detach', True)\n",
    "        self.driver = webdriver.Chrome(options=chrome_options)\n",
    "        # Open the target Indices webpage on Google Finance\n",
    "        self.driver.get(f\"https://www.google.com/finance/quote/{self.path}\")\n",
    "        # Open the Balance Sheet and Cash Flow tabs (income statement tab is opened upon loading the webpage)\n",
    "        self.driver.execute_script(\"document.getElementsByClassName('oX8Xbb Tj1T2')[1].click()\")\n",
    "        self.driver.execute_script(\"document.getElementsByClassName('oX8Xbb Tj1T2')[2].click()\")\n",
    "\n",
    "    def close_driver(self):\n",
    "        # Close the driver's connection \n",
    "        if self.driver:\n",
    "            self.driver.close()\n",
    "\n",
    "\n",
    "# Instantiate an instance of the Stock class \n",
    "AMD = Stock('AMD:NASDAQ', 'AMD')"
   ]
  },
  {
   "cell_type": "code",
   "execution_count": 48,
   "id": "b6f39086-6476-4072-971b-35d371383ed6",
   "metadata": {},
   "outputs": [
    {
     "name": "stdout",
     "output_type": "stream",
     "text": [
      "------\n",
      "Data tables imported successfully\n",
      "------\n",
      "------\n",
      "Data tables imported successfully\n",
      "------\n",
      "------\n",
      "Data tables imported successfully\n",
      "------\n",
      "------\n",
      "Data tables imported successfully\n",
      "------\n",
      "------\n",
      "Data tables imported successfully\n",
      "------\n"
     ]
    }
   ],
   "source": [
    "try:\n",
    "    AMD.start_driver()\n",
    "    # cycle through each quarterly statement and inmport the tabular data\n",
    "    for i in range(1, 6):\n",
    "        elem = AMD.driver.find_element(by=By.XPATH, value='//*[@id=\"yDmH0d\"]/c-wiz[2]/div/div[4]/div/main/div[2]/c-wiz/div/div[2]/div/div[1]/div')\n",
    "        AMD.driver.execute_script('arguments[0].scrollIntoView()', elem)\n",
    "        if i != 1:\n",
    "            buttons = AMD.driver.find_elements(by=By.XPATH, value=f'//*[@id=\"option-{i - 1}\"]')\n",
    "            for btn in buttons:\n",
    "                btn.click()\n",
    "        AMD.import_data_tables()\n",
    "finally:\n",
    "    AMD.close_driver()"
   ]
  },
  {
   "cell_type": "code",
   "execution_count": 49,
   "id": "ec4a6ce9-0256-4863-9762-4235f10d5e13",
   "metadata": {},
   "outputs": [],
   "source": [
    "AMD.create_master_df()\n",
    "# copy the master dataFrame for later manipulations without compromising the original data\n",
    "df = AMD.master_df.copy()"
   ]
  },
  {
   "cell_type": "code",
   "execution_count": 50,
   "id": "e31edf56-286d-46bb-9cfc-d9cda63bb457",
   "metadata": {},
   "outputs": [
    {
     "data": {
      "text/plain": [
       "(105, 3)"
      ]
     },
     "execution_count": 50,
     "metadata": {},
     "output_type": "execute_result"
    }
   ],
   "source": [
    "# Get the size of the dataset\n",
    "df.shape"
   ]
  },
  {
   "cell_type": "code",
   "execution_count": 51,
   "id": "38eb06d1-c4dc-4861-981f-b93ab487f731",
   "metadata": {},
   "outputs": [
    {
     "name": "stdout",
     "output_type": "stream",
     "text": [
      "<class 'pandas.core.frame.DataFrame'>\n",
      "MultiIndex: 105 entries, ('Mar 2024', 0) to ('Apr 2023', 20)\n",
      "Data columns (total 3 columns):\n",
      " #   Column      Non-Null Count  Dtype  \n",
      "---  ------      --------------  -----  \n",
      " 0   Metric      105 non-null    object \n",
      " 1   Value       105 non-null    float64\n",
      " 2   Y/Y Change  75 non-null     float64\n",
      "dtypes: float64(2), object(1)\n",
      "memory usage: 3.1+ KB\n"
     ]
    }
   ],
   "source": [
    "# Get the names and data types of each column\n",
    "df.info()"
   ]
  },
  {
   "cell_type": "code",
   "execution_count": 52,
   "id": "a82fbb2d-b84e-450d-87b5-a24f0c0f8cce",
   "metadata": {},
   "outputs": [
    {
     "data": {
      "text/plain": [
       "Metric    20\n",
       "dtype: int64"
      ]
     },
     "execution_count": 52,
     "metadata": {},
     "output_type": "execute_result"
    }
   ],
   "source": [
    "# Get the number of unique values for each categorical variable\n",
    "unique_values = df.select_dtypes(include=['object', 'category']).nunique()\n",
    "unique_values"
   ]
  },
  {
   "cell_type": "code",
   "execution_count": 54,
   "id": "103d368e-f629-4767-84a6-6231c23b86e3",
   "metadata": {},
   "outputs": [
    {
     "data": {
      "text/plain": [
       "(67970000000.0, -1240000000.0, 3076.19, -145.8)"
      ]
     },
     "execution_count": 54,
     "metadata": {},
     "output_type": "execute_result"
    }
   ],
   "source": [
    "# Get the min and max values for each column containing numerical data\n",
    "max_val, min_val = df['Value'].max(), df['Value'].min()\n",
    "max_change, min_change = df['Y/Y Change'].max(), df['Y/Y Change'].min()\n",
    "max_val, min_val, max_change, min_change"
   ]
  },
  {
   "cell_type": "code",
   "execution_count": 42,
   "id": "0d0c5db0-f913-465b-9391-da90de0a69fa",
   "metadata": {},
   "outputs": [
    {
     "data": {
      "text/plain": [
       "Metric         0\n",
       "Value          0\n",
       "Y/Y Change    30\n",
       "dtype: int64"
      ]
     },
     "execution_count": 42,
     "metadata": {},
     "output_type": "execute_result"
    }
   ],
   "source": [
    "# Determine number of empty column values\n",
    "df.isna().sum()"
   ]
  },
  {
   "cell_type": "code",
   "execution_count": 55,
   "id": "d60932d0-500f-42fc-a767-e0231bc7a991",
   "metadata": {},
   "outputs": [
    {
     "data": {
      "text/html": [
       "<div>\n",
       "<style scoped>\n",
       "    .dataframe tbody tr th:only-of-type {\n",
       "        vertical-align: middle;\n",
       "    }\n",
       "\n",
       "    .dataframe tbody tr th {\n",
       "        vertical-align: top;\n",
       "    }\n",
       "\n",
       "    .dataframe thead th {\n",
       "        text-align: right;\n",
       "    }\n",
       "</style>\n",
       "<table border=\"1\" class=\"dataframe\">\n",
       "  <thead>\n",
       "    <tr style=\"text-align: right;\">\n",
       "      <th></th>\n",
       "      <th></th>\n",
       "      <th>Metric</th>\n",
       "      <th>Value</th>\n",
       "      <th>Y/Y Change</th>\n",
       "    </tr>\n",
       "    <tr>\n",
       "      <th>Quarter</th>\n",
       "      <th>Row ID</th>\n",
       "      <th></th>\n",
       "      <th></th>\n",
       "      <th></th>\n",
       "    </tr>\n",
       "  </thead>\n",
       "  <tbody>\n",
       "    <tr>\n",
       "      <th rowspan=\"5\" valign=\"top\">Mar 2024</th>\n",
       "      <th>0</th>\n",
       "      <td>Revenue</td>\n",
       "      <td>5.470000e+09</td>\n",
       "      <td>2.24</td>\n",
       "    </tr>\n",
       "    <tr>\n",
       "      <th>1</th>\n",
       "      <td>Operating expense</td>\n",
       "      <td>2.750000e+09</td>\n",
       "      <td>-1.96</td>\n",
       "    </tr>\n",
       "    <tr>\n",
       "      <th>2</th>\n",
       "      <td>Net income</td>\n",
       "      <td>1.230000e+08</td>\n",
       "      <td>188.49</td>\n",
       "    </tr>\n",
       "    <tr>\n",
       "      <th>3</th>\n",
       "      <td>Net profit margin</td>\n",
       "      <td>2.200000e+00</td>\n",
       "      <td>186.54</td>\n",
       "    </tr>\n",
       "    <tr>\n",
       "      <th>4</th>\n",
       "      <td>Earnings per share</td>\n",
       "      <td>6.000000e-01</td>\n",
       "      <td>3.33</td>\n",
       "    </tr>\n",
       "    <tr>\n",
       "      <th>...</th>\n",
       "      <th>...</th>\n",
       "      <td>...</td>\n",
       "      <td>...</td>\n",
       "      <td>...</td>\n",
       "    </tr>\n",
       "    <tr>\n",
       "      <th rowspan=\"5\" valign=\"top\">Apr 2023</th>\n",
       "      <th>16</th>\n",
       "      <td>Cash from operations</td>\n",
       "      <td>4.860000e+08</td>\n",
       "      <td>-51.16</td>\n",
       "    </tr>\n",
       "    <tr>\n",
       "      <th>17</th>\n",
       "      <td>Cash from investing</td>\n",
       "      <td>-1.240000e+09</td>\n",
       "      <td>-139.17</td>\n",
       "    </tr>\n",
       "    <tr>\n",
       "      <th>18</th>\n",
       "      <td>Cash from financing</td>\n",
       "      <td>-2.590000e+08</td>\n",
       "      <td>86.70</td>\n",
       "    </tr>\n",
       "    <tr>\n",
       "      <th>19</th>\n",
       "      <td>Net change in cash</td>\n",
       "      <td>-1.010000e+09</td>\n",
       "      <td>-145.80</td>\n",
       "    </tr>\n",
       "    <tr>\n",
       "      <th>20</th>\n",
       "      <td>Free cash flow</td>\n",
       "      <td>7.037500e+08</td>\n",
       "      <td>-14.31</td>\n",
       "    </tr>\n",
       "  </tbody>\n",
       "</table>\n",
       "<p>75 rows × 3 columns</p>\n",
       "</div>"
      ],
      "text/plain": [
       "                               Metric         Value  Y/Y Change\n",
       "Quarter  Row ID                                                \n",
       "Mar 2024 0                    Revenue  5.470000e+09        2.24\n",
       "         1          Operating expense  2.750000e+09       -1.96\n",
       "         2                 Net income  1.230000e+08      188.49\n",
       "         3          Net profit margin  2.200000e+00      186.54\n",
       "         4         Earnings per share  6.000000e-01        3.33\n",
       "...                               ...           ...         ...\n",
       "Apr 2023 16      Cash from operations  4.860000e+08      -51.16\n",
       "         17       Cash from investing -1.240000e+09     -139.17\n",
       "         18       Cash from financing -2.590000e+08       86.70\n",
       "         19        Net change in cash -1.010000e+09     -145.80\n",
       "         20            Free cash flow  7.037500e+08      -14.31\n",
       "\n",
       "[75 rows x 3 columns]"
      ]
     },
     "execution_count": 55,
     "metadata": {},
     "output_type": "execute_result"
    }
   ],
   "source": [
    "# Drop the associated rows containing the empty values\n",
    "df.dropna()"
   ]
  },
  {
   "cell_type": "code",
   "execution_count": 57,
   "id": "b8106afe-4302-45fc-a932-84ccd0331b9b",
   "metadata": {},
   "outputs": [
    {
     "data": {
      "text/plain": [
       "Metric\n",
       "Net income                         10\n",
       "Revenue                             5\n",
       "Shares outstanding                  5\n",
       "Net change in cash                  5\n",
       "Cash from financing                 5\n",
       "Cash from investing                 5\n",
       "Cash from operations                5\n",
       "Return on capital                   5\n",
       "Return on assets                    5\n",
       "Price to book                       5\n",
       "Total equity                        5\n",
       "Operating expense                   5\n",
       "Total liabilities                   5\n",
       "Total assets                        5\n",
       "Cash and short-term investments     5\n",
       "Effective tax rate                  5\n",
       "EBITDA                              5\n",
       "Earnings per share                  5\n",
       "Net profit margin                   5\n",
       "Free cash flow                      5\n",
       "Name: count, dtype: int64"
      ]
     },
     "execution_count": 57,
     "metadata": {},
     "output_type": "execute_result"
    }
   ],
   "source": [
    "# get the number of instances of each categorial value (Metric column)\n",
    "df['Metric'].value_counts()"
   ]
  },
  {
   "cell_type": "code",
   "execution_count": null,
   "id": "138d524b-84ef-44b3-80bc-49f749f15813",
   "metadata": {},
   "outputs": [],
   "source": [
    "# The dataset conatins AMD's Financial statements from the past five quarters\n",
    "# Each financial statement contains the Income statement, Balance Sheet, and Cash Flow\n",
    "# Net Income is present in both the Income Statement and Cash Flow and therefore is most frequent through the dataset"
   ]
  }
 ],
 "metadata": {
  "kernelspec": {
   "display_name": "Python 3 (ipykernel)",
   "language": "python",
   "name": "python3"
  },
  "language_info": {
   "codemirror_mode": {
    "name": "ipython",
    "version": 3
   },
   "file_extension": ".py",
   "mimetype": "text/x-python",
   "name": "python",
   "nbconvert_exporter": "python",
   "pygments_lexer": "ipython3",
   "version": "3.11.7"
  }
 },
 "nbformat": 4,
 "nbformat_minor": 5
}
