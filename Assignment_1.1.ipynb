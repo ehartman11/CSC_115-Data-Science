{
 "cells": [
  {
   "cell_type": "code",
   "execution_count": null,
   "id": "affca6dd-b9ba-4206-bb6a-89df441e0fd8",
   "metadata": {},
   "outputs": [],
   "source": [
    "# Print a greeting\n",
    "# declare and assign string variables\n",
    "prefix = 'Hello'\n",
    "name = 'Ethan'\n",
    "# join the variables together with a space and print the greeting\n",
    "greeting = ' '.join((prefix, name))\n",
    "print(greeting)"
   ]
  },
  {
   "cell_type": "code",
   "execution_count": null,
   "id": "69cd00a3-1132-4e1c-87b2-0feedc689e48",
   "metadata": {},
   "outputs": [],
   "source": [
    "# Arrange an inputted data set in ascending order\n",
    "# Receive user input and separate the numbers by their commas\n",
    "# This will create a list of strings\n",
    "num_list = input('Please enter a list of comma separated numbers: ').split(',')\n",
    "# convert each string in the list to a float\n",
    "num_list = [float(num) for num in num_list]\n",
    "# sort the list in ascending order and print it\n",
    "num_list.sort()\n",
    "print(num_list)"
   ]
  },
  {
   "cell_type": "code",
   "execution_count": null,
   "id": "310bf3e3-04d0-4761-8f8a-9987182a79d2",
   "metadata": {},
   "outputs": [],
   "source": [
    "# Display the first and last letter of each name in the given list\n",
    "names = ['Adam', 'Alex', 'Emmanuel', 'Robert', 'Finn']\n",
    "# get the length of the longest name and add 2 (this is for later formatting when printing to the display)\n",
    "max_length = max(len(name) for name in names) + 2\n",
    "# print the names with their corresponding first and last letter by using the first and last index positions\n",
    "print(\"Name\".ljust(max_length), \"First\".ljust(7), \"Last\".ljust(5))\n",
    "for name in names:\n",
    "    print(name.ljust(max_length), name[0].ljust(7), name[-1].ljust(5))"
   ]
  },
  {
   "cell_type": "code",
   "execution_count": null,
   "id": "b2ca669f-e84b-4002-934a-5b28b0ba50c0",
   "metadata": {},
   "outputs": [],
   "source": [
    "# Print the combination of first, middle, and last letter of an inputted string\n",
    "# get user input, then create a new string variable by getting teh first, middle and last index of the given string\n",
    "str1 = input('Enter a string: ')\n",
    "new_str = str1[0] + str1[len(str1) // 2] + str1[-1]\n",
    "print(new_str)"
   ]
  },
  {
   "cell_type": "code",
   "execution_count": null,
   "id": "bcde249d-3c83-45d9-9b53-3d6b419c4f89",
   "metadata": {},
   "outputs": [],
   "source": [
    "# Reverse the order of an inputted string\n",
    "# get the inputted string, turn it into a list, reverse the order, then rejoin it\n",
    "str1 = ''.join(reversed(list(input('Enter a string: '))))\n",
    "print(str1)"
   ]
  },
  {
   "cell_type": "code",
   "execution_count": null,
   "id": "02fa6db0-512a-4114-a89b-48a8eb9ab531",
   "metadata": {},
   "outputs": [],
   "source": [
    "# Create a list of even numbers from a list of inputted data\n",
    "# get the inputted string of numbers, remove the commas and append them to a list\n",
    "list1 = input('Enter a list of comma separated numbers: ').split(',')\n",
    "# use a list generator to index through the list of numbers\n",
    "# determine if the current indexed number is even and then append it to the new list\n",
    "list1 = [int(num) for num in list1 if float(num) % 2 == 0]\n",
    "print(list1)\n"
   ]
  },
  {
   "cell_type": "code",
   "execution_count": null,
   "id": "4e6555bd-8937-400f-a92c-23464f2b0a75",
   "metadata": {},
   "outputs": [],
   "source": [
    "# Create a list of word lengths from inputted words\n",
    "# get user input and remove and separate the words by comma\n",
    "words = input('Enter a list of comma separated words: ').split(',')\n",
    "# use a list generator to iterator to create a list of word lengths\n",
    "lengths = [len(word) for word in words]\n",
    "# set max_len to the max number of the length list\n",
    "max_len = max(lengths) + 2\n",
    "# zip the words and lengths list\n",
    "word_zip = zip(words, lengths)\n",
    "# iterate through the word zip and print each word and its associated length \n",
    "print('word'.ljust(max_len - 3), 'length')\n",
    "for k, v in word_zip:\n",
    "    print(k.strip().ljust(max_len) + str(v))"
   ]
  },
  {
   "cell_type": "code",
   "execution_count": null,
   "id": "4524ba36-84b7-40e0-983e-36765dc390ff",
   "metadata": {},
   "outputs": [],
   "source": [
    "# Create a dictionary of students and their grades and print the highest grade\n",
    "# create and insert arbritrary values for a student grade dictionary\n",
    "student_grades = {\"Adam\": 75, \"Alex\": 95, \"Emmanuel\": 85, \"Robert\": 65, \"Finn\": 95}\n",
    "# initialize an empty dictionary to store the highest grade and associated student(s)\n",
    "highest_grade = {}\n",
    "# iterate through the student grade dictionary \n",
    "for student, grade in student_grades.items():\n",
    "    # if the highest grade dictionary is empty or the student shares the highest grade, \n",
    "    # add the student and their grade to the highest grade dictionary\n",
    "    if not highest_grade or grade == next(iter(highest_grade.values())):\n",
    "        highest_grade[student] = grade\n",
    "    # If the student has a higher grade, clear the current highest grade dictionary\n",
    "    # and then add the student and their grade\n",
    "    elif grade > next(iter(highest_grade.values())):\n",
    "        highest_grade.clear()\n",
    "        highest_grade[student] = grade\n",
    "\n",
    "# iterate through the highest grade dictionary and print the name of the student(s) with the highest grade\n",
    "print(f'Student(s) with the highest grade ({next(iter(highest_grade.values()))}%):')\n",
    "for student in highest_grade:\n",
    "    print(student)\n"
   ]
  },
  {
   "cell_type": "code",
   "execution_count": null,
   "id": "92d4e882-20c2-4c4f-91e4-7dcf0c72bc69",
   "metadata": {},
   "outputs": [],
   "source": [
    "# Create two sets of data, then remove the common items from the first set\n",
    "set1 = ['birds', 'apples', 2, 'tower']\n",
    "set2 = ['canary', 'tower', 'fish', 5]\n",
    "# iterate through set1, if the index is not in set2 add it to the new set \n",
    "set1 = [i for i in set1 if i not in set2]\n",
    "print(set1)"
   ]
  },
  {
   "cell_type": "code",
   "execution_count": null,
   "id": "272d8d07-8060-4ba7-b39d-874cfe64d5fd",
   "metadata": {},
   "outputs": [],
   "source": [
    "# Create a dictionary of word counts from an inputted sentence, and print the 3 most commonly used words\n",
    "# get user input, split the sentence by spaces and turn it into a list\n",
    "sentence = input('Enter a sentence: ').split()\n",
    "\n",
    "# clean the list of words of non-alphabetic characters \n",
    "chars = 'abcdefghijklmnopqrstuvwxyz'\n",
    "words = []\n",
    "for word in sentence:\n",
    "    letters = []\n",
    "    for char in word:\n",
    "        if char.lower() in chars:\n",
    "            letters.append(char)\n",
    "    words.append(''.join(letters))\n",
    "\n",
    "# count the number of times each word is used\n",
    "word_count = {}\n",
    "for word in words:\n",
    "    if word not in word_count:\n",
    "        word_count[word] = 1\n",
    "    else:\n",
    "        word_count[word] += 1\n",
    "\n",
    "# determine the 3 most commonly used words\n",
    "highest_freq = []\n",
    "for word, count in word_count.items():\n",
    "    # add the first three words and their frequency to the highest freq list\n",
    "    if len(highest_freq) < 3:\n",
    "        highest_freq.append([count, word])\n",
    "    # check the frequency of use of the current word against the lowest used word in the highest freq list\n",
    "    elif count >= highest_freq[-1][0]:\n",
    "        # if the current word is used more, remove the last indexed (lowest frequency) word \n",
    "        # and replace it with the new word and its associated frequency\n",
    "        highest_freq.pop()\n",
    "        highest_freq.append([count, word])\n",
    "    # ensures that the lowest frequency word is in the last indexed position\n",
    "    highest_freq.sort(reverse=True)\n",
    "\n",
    "print('The three most frequently used words in the provided sentence are: ')\n",
    "print('Word:'.ljust(14), 'Frequency:')\n",
    "for word in highest_freq:\n",
    "    print(word[1].ljust(14), str(word[0]).rjust(5))"
   ]
  }
 ],
 "metadata": {
  "kernelspec": {
   "display_name": "Python 3 (ipykernel)",
   "language": "python",
   "name": "python3"
  },
  "language_info": {
   "codemirror_mode": {
    "name": "ipython",
    "version": 3
   },
   "file_extension": ".py",
   "mimetype": "text/x-python",
   "name": "python",
   "nbconvert_exporter": "python",
   "pygments_lexer": "ipython3",
   "version": "3.11.7"
  }
 },
 "nbformat": 4,
 "nbformat_minor": 5
}
