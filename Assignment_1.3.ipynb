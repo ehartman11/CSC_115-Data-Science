{
 "cells": [
  {
   "cell_type": "code",
   "execution_count": null,
   "id": "236c334c-ade1-474e-960f-9e736aa20b03",
   "metadata": {},
   "outputs": [],
   "source": [
    "import pandas as pd\n",
    "\n",
    "\n",
    "def block_break(datas: any) -> None:\n",
    "    \"\"\"\n",
    "    Prints whatever the user inputs as a parameter\n",
    "    followed by a line break of '-' marks to clearly demarc each section\n",
    "    (meant to help see sections more clearly in my IDE when working)\n",
    "    :param datas: anything that can be printed\n",
    "    :return: None\n",
    "    \"\"\"\n",
    "    print(datas)\n",
    "    print(\"-\" * 25)\n"
   ]
  },
  {
   "cell_type": "code",
   "execution_count": null,
   "id": "d9cd992c-27f1-4e5f-a484-1fd16525dc88",
   "metadata": {},
   "outputs": [],
   "source": [
    "# read the original data file\n",
    "dataset = pd.read_csv('nycflights.csv')\n",
    "# copy the original dataset as to not accidentally corrupt the information\n",
    "data = dataset.copy()\n",
    "# print the column headers for ease of use later on\n",
    "block_break(data.columns)"
   ]
  },
  {
   "cell_type": "code",
   "execution_count": null,
   "id": "f143df0a-16eb-4c66-8fcc-cd12204e7176",
   "metadata": {},
   "outputs": [],
   "source": [
    "# How many flights were operated by American Airlines and how many by Delta Air lines?\n",
    "carriers = data['carrier'].value_counts()\n",
    "print(f'# of American Airlines flights: {carriers[\"AA\"]}')\n",
    "block_break(f'# of Delta Airlines flights: {carriers[\"DL\"]}')\n"
   ]
  },
  {
   "cell_type": "code",
   "execution_count": null,
   "id": "a30d5234-9982-4f47-8e44-d379dd5b9a5b",
   "metadata": {},
   "outputs": [],
   "source": [
    "# Identify the top destinations from each JFK airport.\n",
    "# grab all the entries from the origin column that have the value JFK\n",
    "from_JFK = data[data['origin'] == 'JFK']\n",
    "# count the number of unique dest values that have the origin of JFK (similar to groupby)\n",
    "top_dest = from_JFK[['origin', 'dest']].value_counts()\n",
    "# print the top five entries\n",
    "block_break(top_dest[:5])"
   ]
  },
  {
   "cell_type": "code",
   "execution_count": null,
   "id": "3b6e175e-2baf-403a-bd70-ec956e6523dd",
   "metadata": {},
   "outputs": [],
   "source": [
    "# Count the number of flights departing from each origin airport to different destinations.\n",
    "# group the dataset by origin and find the number of unique (non-na) destinations\n",
    "num_of_dest = data.groupby('origin')['dest'].nunique()\n",
    "block_break(num_of_dest)"
   ]
  },
  {
   "cell_type": "code",
   "execution_count": null,
   "id": "2cc8f6d5-301b-404f-b592-8fde3d2e471c",
   "metadata": {},
   "outputs": [],
   "source": [
    "# How missing values are there in the column dep_time?\n",
    "# get the sum of row that are na in the dep_time column\n",
    "dep_na = data['dep_time'].isna().sum()\n",
    "block_break(f'The number of missing departure times is: {dep_na}')"
   ]
  },
  {
   "cell_type": "code",
   "execution_count": null,
   "id": "c6944ab4-c753-4267-986e-1f644a5ec067",
   "metadata": {},
   "outputs": [],
   "source": [
    "# Identify the airline with the highest average departure delay.\n",
    "# group the carrier column by the average dep_delay time and sort it in descending order\n",
    "# groupby will grab each unique entry in the first identifier ('carrier')\n",
    "# ['dep_delay'].mean() will average the values of each carrier's delay time\n",
    "# sort_values(ascending=False) will sort the entries by value in descending order\n",
    "avg_dep_del = (data.groupby('carrier')['dep_delay'].mean()).sort_values(ascending=False)\n",
    "max_delay_carrier, max_del_avg = avg_dep_del.index[0], avg_dep_del.iloc[0]\n",
    "print(f'Carrier with the highest average departure delay: {max_delay_carrier}')\n",
    "block_break(f'\\t\\t\\t\\t\\t\\t\\t\\t\\t   Avg delay: {max_del_avg:.2f} min')"
   ]
  },
  {
   "cell_type": "code",
   "execution_count": null,
   "id": "1ace129e-5204-492d-868b-dd091f95fa24",
   "metadata": {},
   "outputs": [],
   "source": [
    "# Count the number of flights departing from each origin airport to different destinations.\n",
    "# group the dataset by origin and find the number of unique (non-na) destinations\n",
    "num_of_dest = data.groupby('origin')['dest'].nunique()\n",
    "block_break(num_of_dest)"
   ]
  },
  {
   "cell_type": "code",
   "execution_count": null,
   "id": "aa3b07a4-24c5-4e42-86cd-61ae21df9a57",
   "metadata": {},
   "outputs": [],
   "source": [
    "# Extract the hour, minutes from the 'DEP_TIME' column and add put it into new column with appropriate names\n",
    "# copy the original dataset prior to manipulation\n",
    "dataset2 = dataset.copy()\n",
    "# convert the values in the dep_time column to str type\n",
    "dataset2['dep_time'] = dataset2['dep_time'].astype(str)\n",
    "# create 1D arrays dep_hour and min by parsing the indexed positions of the dep_time values\n",
    "dep_hour = dataset2['dep_time'].str[:-2]\n",
    "dep_min = dataset2['dep_time'].str[-2:]\n",
    "# insert the new arrays as columns, into the dataset\n",
    "dataset2.insert(3, 'dep_hour', dep_hour)\n",
    "dataset2.insert(4, 'dep_min', dep_min)\n",
    "# remove the dep_time column\n",
    "del dataset2['dep_time']\n",
    "block_break(dataset2)"
   ]
  }
 ],
 "metadata": {
  "kernelspec": {
   "display_name": "Python 3 (ipykernel)",
   "language": "python",
   "name": "python3"
  },
  "language_info": {
   "codemirror_mode": {
    "name": "ipython",
    "version": 3
   },
   "file_extension": ".py",
   "mimetype": "text/x-python",
   "name": "python",
   "nbconvert_exporter": "python",
   "pygments_lexer": "ipython3",
   "version": "3.11.7"
  }
 },
 "nbformat": 4,
 "nbformat_minor": 5
}
